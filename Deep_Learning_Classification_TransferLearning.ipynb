{
  "nbformat": 4,
  "nbformat_minor": 0,
  "metadata": {
    "colab": {
      "provenance": [],
      "authorship_tag": "ABX9TyPZMlbU0Rxh2vv83OMha9Ih",
      "include_colab_link": true
    },
    "kernelspec": {
      "name": "python3",
      "display_name": "Python 3"
    },
    "language_info": {
      "name": "python"
    },
    "accelerator": "GPU",
    "gpuClass": "standard"
  },
  "cells": [
    {
      "cell_type": "markdown",
      "metadata": {
        "id": "view-in-github",
        "colab_type": "text"
      },
      "source": [
        "<a href=\"https://colab.research.google.com/github/GboyeStack-Robotics-ML-Engineer/Deep-Learning-Classification/blob/main/Deep_Learning_Classification_TransferLearning.ipynb\" target=\"_parent\"><img src=\"https://colab.research.google.com/assets/colab-badge.svg\" alt=\"Open In Colab\"/></a>"
      ]
    },
    {
      "cell_type": "markdown",
      "source": [
        "GETTING MODELS FROM tf.keras.applications"
      ],
      "metadata": {
        "id": "hOmshFQGA8C2"
      }
    },
    {
      "cell_type": "code",
      "execution_count": null,
      "metadata": {
        "id": "C30Vjgyf5e9g"
      },
      "outputs": [],
      "source": [
        "import tensorflow as tf\n",
        "model = tf.keras.applications.MobileNet(\n",
        "    input_shape=None,\n",
        "    alpha=1.0,\n",
        "    depth_multiplier=1,\n",
        "    dropout=0.001,\n",
        "    include_top=True,\n",
        "    weights=\"imagenet\",\n",
        "    input_tensor=None,\n",
        "    pooling=None,\n",
        "    classes=1000,\n",
        "    classifier_activation=\"softmax\",\n",
        ")"
      ]
    },
    {
      "cell_type": "code",
      "source": [
        "#visualkeras.layered_view(model, legend=True) # without custom font\n",
        "!pip install visualkeras\n",
        "from PIL import ImageFont\n",
        "import visualkeras\n",
        "#font = ImageFont.truetype(\"arial.ttf\")\n",
        "\n",
        "def visualize_model(model):\n",
        "  font = ImageFont.load_default()\n",
        "  visualkeras.layered_view(model, legend=True, font=font,draw_volume=True) # selected font\n",
        "visualize_model(model)"
      ],
      "metadata": {
        "collapsed": true,
        "id": "RSsTAcaNADIJ"
      },
      "execution_count": null,
      "outputs": []
    },
    {
      "cell_type": "markdown",
      "source": [
        "GETTING MY HANDS DIRTY WITH ENCODER DECODER ARCHITECTURE"
      ],
      "metadata": {
        "id": "-cbP-K7ABeJ8"
      }
    },
    {
      "cell_type": "code",
      "source": [
        " !wget --no-check-certificate \\\n",
        "    https://storage.googleapis.com/mledu-datasets/cats_and_dogs_filtered.zip \\\n",
        "    -O /content/catsdogs.zip"
      ],
      "metadata": {
        "id": "5JzNPH_7Bcq4"
      },
      "execution_count": null,
      "outputs": []
    },
    {
      "cell_type": "code",
      "source": [
        "import os\n",
        "import zipfile\n",
        "with zipfile.ZipFile('catsdogs.zip', 'r') as zip_ref:\n",
        "    zip_ref.extractall('/content/')\n",
        "base_dir = '/content/cats_and_dogs_filtered/'\n",
        "train_dir = os.path.join(base_dir, 'train')\n",
        "validation_dir = os.path.join(base_dir, 'validation')"
      ],
      "metadata": {
        "id": "WREFzrwqB7Zl"
      },
      "execution_count": null,
      "outputs": []
    },
    {
      "cell_type": "code",
      "source": [
        "import tensorflow as tf\n",
        "from tensorflow import keras\n",
        "from tensorflow.keras.preprocessing import image_dataset_from_directory\n",
        "training_set = image_dataset_from_directory(train_dir,\n",
        "                                             shuffle=True,\n",
        "                                             batch_size=32,\n",
        "                                             image_size=(150, 150))\n",
        "val_dataset = image_dataset_from_directory(validation_dir,\n",
        "                                                  shuffle=True,\n",
        "                                                  batch_size=32,\n",
        "                                                  image_size=(150, 150))"
      ],
      "metadata": {
        "id": "OA5y2d7MCxXD"
      },
      "execution_count": null,
      "outputs": []
    },
    {
      "cell_type": "code",
      "source": [
        "data_augmentation = keras.Sequential(\n",
        "    [       keras.layers.experimental.preprocessing.RandomFlip(\"horizontal\"),\n",
        "   keras.layers.experimental.preprocessing.RandomRotation(0.1),\n",
        "    ]\n",
        ")"
      ],
      "metadata": {
        "id": "eWvJJTWdCz-h"
      },
      "execution_count": null,
      "outputs": []
    },
    {
      "cell_type": "code",
      "source": [
        "import numpy as np\n",
        "import matplotlib.pyplot as plt\n",
        "for images, labels in training_set.take(1):\n",
        "    plt.figure(figsize=(12, 12))\n",
        "    first_image = images[0]\n",
        "    for i in range(12):\n",
        "        ax = plt.subplot(3, 4, i + 1)\n",
        "        augmented_image = data_augmentation(\n",
        "            tf.expand_dims(first_image, 0)\n",
        "        )\n",
        "        plt.imshow(augmented_image[0].numpy().astype(\"int32\"))\n",
        "        plt.axis(\"off\")"
      ],
      "metadata": {
        "id": "eP0FFRYrDTDS"
      },
      "execution_count": null,
      "outputs": []
    },
    {
      "cell_type": "code",
      "source": [
        "base_model = keras.applications.Xception(\n",
        "    weights='imagenet',\n",
        "    input_shape=(150, 150, 3),\n",
        "    include_top=False)"
      ],
      "metadata": {
        "id": "X6T8Ud9DEAvC"
      },
      "execution_count": null,
      "outputs": []
    },
    {
      "cell_type": "code",
      "source": [
        "base_model.trainable = False"
      ],
      "metadata": {
        "id": "Oq4i5R2BET4w"
      },
      "execution_count": null,
      "outputs": []
    },
    {
      "cell_type": "code",
      "source": [
        "#@title\n",
        "inputs = keras.Input(shape=(150, 150, 3))\n",
        "\n",
        "x = data_augmentation(inputs)\n",
        "\n",
        "x = tf.keras.applications.xception.preprocess_input(x)\n",
        "\n",
        "x = base_model(x, training=False)\n",
        "\n",
        "x = keras.layers.GlobalAveragePooling2D()(x)\n",
        "\n",
        "x = keras.layers.Dropout(0.2)(x)\n",
        "\n",
        "outputs = keras.layers.Dense(1)(x)\n",
        "\n",
        "model = keras.Model(inputs, outputs)\n",
        "\n",
        "model.compile(optimizer='adam', loss=tf.keras.losses.BinaryCrossentropy(from_logits=True),metrics=keras.metrics.BinaryAccuracy())\n",
        "\n",
        "model.fit(training_set, epochs=20, validation_data=val_dataset)"
      ],
      "metadata": {
        "id": "b0ojpu_fFSfw"
      },
      "execution_count": null,
      "outputs": []
    }
  ]
}